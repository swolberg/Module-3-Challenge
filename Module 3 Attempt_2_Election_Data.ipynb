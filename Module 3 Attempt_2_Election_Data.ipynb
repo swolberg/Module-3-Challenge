{
 "cells": [
  {
   "cell_type": "code",
   "execution_count": 25,
   "id": "f944befe",
   "metadata": {},
   "outputs": [
    {
     "name": "stdout",
     "output_type": "stream",
     "text": [
      "Election Results\n",
      "-------------------------\n",
      "Total Votes: 369711\n",
      "-------------------------\n",
      "\n",
      "Charles Casper Stockham: 23.049% (85213)\n",
      "Diana DeGette: 73.812% (272892)\n",
      "Raymon Anthony Doane: 3.139% (11606)\n",
      "-------------------------\n",
      "Winner: Diana DeGette\n",
      "-------------------------\n",
      "\n"
     ]
    }
   ],
   "source": [
    "import csv\n",
    "import os\n",
    "\n",
    "# Define file paths\n",
    "input_file = os.path.join(\"/Users/sarahrwolberg/Desktop/UPENN Data Science Bootcamp/Module 3/Module 3 Challenge\", \"election_data.csv\")\n",
    "output_file = os.path.join(\"/Users/sarahrwolberg/Desktop/UPENN Data Science Bootcamp/Module 3/Module 3 Challenge\", \"election_analysis.txt\")\n",
    "\n",
    "# Initialize variables\n",
    "total_votes = 0\n",
    "candidate_votes = {}\n",
    "winning_candidate = \"\"\n",
    "winning_count = 0\n",
    "\n",
    "# Open and read the CSV file\n",
    "with open(input_file) as election_data:\n",
    "    reader = csv.reader(election_data)\n",
    "    header = next(reader)  # Skip header\n",
    "\n",
    "    # Count total votes and votes for each candidate\n",
    "    for row in reader:\n",
    "        total_votes += 1\n",
    "        candidate_name = row[2]\n",
    "\n",
    "        if candidate_name not in candidate_votes:\n",
    "            candidate_votes[candidate_name] = 0\n",
    "\n",
    "        candidate_votes[candidate_name] += 1\n",
    "\n",
    "# Prepare the output\n",
    "election_results = (\n",
    "    f\"Election Results\\n\"\n",
    "    f\"-------------------------\\n\"\n",
    "    f\"Total Votes: {total_votes}\\n\"\n",
    "    f\"-------------------------\\n\"\n",
    ")\n",
    "\n",
    "# Print initial election results\n",
    "print(election_results)\n",
    "\n",
    "# Write initial election results to file\n",
    "with open(output_file, \"w\") as txt_file:\n",
    "    txt_file.write(election_results)\n",
    "\n",
    "    # Calculate and display vote percentage and total for each candidate\n",
    "    for candidate, votes in candidate_votes.items():\n",
    "        vote_percentage = (votes / total_votes) * 100\n",
    "\n",
    "        if votes > winning_count:\n",
    "            winning_count = votes\n",
    "            winning_candidate = candidate\n",
    "\n",
    "        candidate_results = f\"{candidate}: {vote_percentage:.3f}% ({votes})\\n\"\n",
    "        print(candidate_results, end=\"\")\n",
    "        txt_file.write(candidate_results)\n",
    "\n",
    "    # Print and write the winning candidate summary\n",
    "    winning_summary = (\n",
    "        f\"-------------------------\\n\"\n",
    "        f\"Winner: {winning_candidate}\\n\"\n",
    "        f\"-------------------------\\n\"\n",
    "    )\n",
    "\n",
    "    print(winning_summary)\n",
    "    txt_file.write(winning_summary)\n"
   ]
  },
  {
   "cell_type": "code",
   "execution_count": null,
   "id": "97b9d675",
   "metadata": {},
   "outputs": [],
   "source": []
  },
  {
   "cell_type": "code",
   "execution_count": 26,
   "id": "bfd085b9",
   "metadata": {},
   "outputs": [
    {
     "data": {
      "text/plain": [
       "'/Users/sarahrwolberg/Desktop/UPENN Data Science Bootcamp/Module 3/Module 3 Challenge'"
      ]
     },
     "execution_count": 26,
     "metadata": {},
     "output_type": "execute_result"
    }
   ],
   "source": [
    "os.getcwd()"
   ]
  },
  {
   "cell_type": "code",
   "execution_count": null,
   "id": "2681aa33",
   "metadata": {},
   "outputs": [],
   "source": []
  },
  {
   "cell_type": "code",
   "execution_count": null,
   "id": "786ee7a4",
   "metadata": {},
   "outputs": [],
   "source": [
    "\n"
   ]
  },
  {
   "cell_type": "code",
   "execution_count": null,
   "id": "00f9ba86",
   "metadata": {},
   "outputs": [],
   "source": []
  },
  {
   "cell_type": "code",
   "execution_count": null,
   "id": "9e818c9c",
   "metadata": {},
   "outputs": [],
   "source": []
  },
  {
   "cell_type": "code",
   "execution_count": null,
   "id": "3e0a8823",
   "metadata": {},
   "outputs": [],
   "source": []
  },
  {
   "cell_type": "code",
   "execution_count": null,
   "id": "8e8235c1",
   "metadata": {},
   "outputs": [],
   "source": []
  },
  {
   "cell_type": "code",
   "execution_count": null,
   "id": "29945cf0",
   "metadata": {},
   "outputs": [],
   "source": []
  }
 ],
 "metadata": {
  "kernelspec": {
   "display_name": "Python 3 (ipykernel)",
   "language": "python",
   "name": "python3"
  },
  "language_info": {
   "codemirror_mode": {
    "name": "ipython",
    "version": 3
   },
   "file_extension": ".py",
   "mimetype": "text/x-python",
   "name": "python",
   "nbconvert_exporter": "python",
   "pygments_lexer": "ipython3",
   "version": "3.9.13"
  }
 },
 "nbformat": 4,
 "nbformat_minor": 5
}
