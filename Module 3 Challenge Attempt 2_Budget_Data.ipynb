{
 "cells": [
  {
   "cell_type": "code",
   "execution_count": 16,
   "id": "702c8472",
   "metadata": {},
   "outputs": [],
   "source": []
  },
  {
   "cell_type": "code",
   "execution_count": 21,
   "id": "c3f53547",
   "metadata": {},
   "outputs": [
    {
     "name": "stdout",
     "output_type": "stream",
     "text": [
      "Financial Analysis\n",
      "----------------------------\n",
      "Total Months: 86\n",
      "Total: $22564198\n",
      "Average Change: $-8311.11\n",
      "Greatest Increase in Profits: Aug-16 ($1862002)\n",
      "Greatest Decrease in Profits: Feb-14 ($-1825558)\n",
      "\n"
     ]
    }
   ],
   "source": [
    "import csv\n",
    "import os\n",
    "\n",
    "# Define file paths\n",
    "input_file = os.path.join(\"/Users/sarahrwolberg/Desktop/UPENN Data Science Bootcamp/Module 3/Module 3 Challenge\", \"budget_data.csv\")\n",
    "output_file = os.path.join(\"/Users/sarahrwolberg/Desktop/UPENN Data Science Bootcamp/Module 3/Module 3 Challenge\", \"budget_data_output.txt\")\n",
    "\n",
    "# Initialize variables\n",
    "total_months = 0\n",
    "total_sum = 0\n",
    "monthly_changes = []\n",
    "months = []\n",
    "highest_increase = {\"month\": \"\", \"change\": 0}\n",
    "highest_decrease = {\"month\": \"\", \"change\": float('inf')}\n",
    "\n",
    "# Open and read CSV file\n",
    "with open(input_file) as input_data:\n",
    "    reader = csv.reader(input_data)\n",
    "    header = next(reader)  # Skip header\n",
    "\n",
    "    # Process the first row\n",
    "    first_row = next(reader)\n",
    "    total_months += 1\n",
    "    total_sum += int(first_row[1])\n",
    "    previous_value = int(first_row[1])\n",
    "\n",
    "    # Process the rest of the rows\n",
    "    for row in reader:\n",
    "        total_months += 1\n",
    "        current_value = int(row[1])\n",
    "        total_sum += current_value\n",
    "\n",
    "        # Calculate monthly change\n",
    "        monthly_change = current_value - previous_value\n",
    "        previous_value = current_value\n",
    "\n",
    "        # Append month and change to respective lists\n",
    "        months.append(row[0])\n",
    "        monthly_changes.append(monthly_change)\n",
    "\n",
    "        # Determine highest increase\n",
    "        if monthly_change > highest_increase[\"change\"]:\n",
    "            highest_increase[\"month\"] = row[0]\n",
    "            highest_increase[\"change\"] = monthly_change\n",
    "\n",
    "        # Determine greatest decrease\n",
    "        if monthly_change < highest_decrease[\"change\"]:\n",
    "            highest_decrease[\"month\"] = row[0]\n",
    "            highest_decrease[\"change\"] = monthly_change\n",
    "\n",
    "# Calculate average change\n",
    "average_change = sum(monthly_changes) / len(monthly_changes)\n",
    "\n",
    "# Prepare output\n",
    "output = (\n",
    "    f\"Financial Analysis\\n\"\n",
    "    f\"----------------------------\\n\"\n",
    "    f\"Total Months: {total_months}\\n\"\n",
    "    f\"Total: ${total_sum}\\n\"\n",
    "    f\"Average Change: ${average_change:.2f}\\n\"\n",
    "    f\"Greatest Increase in Profits: {highest_increase['month']} (${highest_increase['change']})\\n\"\n",
    "    f\"Greatest Decrease in Profits: {highest_decrease['month']} (${highest_decrease['change']})\\n\"\n",
    ")\n",
    "\n",
    "# Print output to terminal\n",
    "print(output)\n",
    "\n",
    "# Write output to text file\n",
    "with open(output_file, \"w\") as txt_file:\n",
    "    txt_file.write(output)\n",
    "\n"
   ]
  },
  {
   "cell_type": "code",
   "execution_count": null,
   "id": "88a4b7df",
   "metadata": {},
   "outputs": [],
   "source": []
  },
  {
   "cell_type": "code",
   "execution_count": null,
   "id": "3e6f390e",
   "metadata": {},
   "outputs": [],
   "source": [
    "\n",
    "\n"
   ]
  },
  {
   "cell_type": "code",
   "execution_count": null,
   "id": "0d4fa832",
   "metadata": {},
   "outputs": [],
   "source": []
  },
  {
   "cell_type": "code",
   "execution_count": null,
   "id": "3dfb96ab",
   "metadata": {},
   "outputs": [],
   "source": []
  },
  {
   "cell_type": "code",
   "execution_count": null,
   "id": "f444cee7",
   "metadata": {},
   "outputs": [],
   "source": []
  }
 ],
 "metadata": {
  "kernelspec": {
   "display_name": "Python 3 (ipykernel)",
   "language": "python",
   "name": "python3"
  },
  "language_info": {
   "codemirror_mode": {
    "name": "ipython",
    "version": 3
   },
   "file_extension": ".py",
   "mimetype": "text/x-python",
   "name": "python",
   "nbconvert_exporter": "python",
   "pygments_lexer": "ipython3",
   "version": "3.9.13"
  }
 },
 "nbformat": 4,
 "nbformat_minor": 5
}
