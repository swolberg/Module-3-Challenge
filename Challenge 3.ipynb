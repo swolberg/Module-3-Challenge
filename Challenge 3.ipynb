{
 "cells": [
  {
   "cell_type": "markdown",
   "id": "3d44b120",
   "metadata": {},
   "source": [
    "Module Challenge 3 -- Using Pandas"
   ]
  },
  {
   "cell_type": "code",
   "execution_count": 38,
   "id": "679eec3b",
   "metadata": {},
   "outputs": [
    {
     "name": "stdout",
     "output_type": "stream",
     "text": [
      "Financial Analysis\n",
      "----------------------------\n",
      "Total Months: 86\n",
      "Total: $22564198\n",
      "Average Change: $-8311.11\n",
      "Greatest Increase in Profits: Aug-16 ($1862002.0)\n",
      "Greatest Decrease in Profits: Feb-14 ($-1825558.0)\n",
      "\n"
     ]
    }
   ],
   "source": [
    "# Dependencies\n",
    "import pandas as pd\n",
    "from pathlib import Path\n",
    "import csv\n",
    "import os\n",
    "# Files to load and output (update with correct file paths)\n",
    "file_to_load = Path(\"/Users/sarahrwolberg/Desktop/UPENN Data Science Bootcamp/Module 3/budget_data.csv\")\n",
    "file_to_output = Path(\"/Users/sarahrwolberg/Desktop/UPENN Data Science Bootcamp/Module 3/budget_analysis.txt\")\n",
    "\n",
    "# Read the CSV file using pandas\n",
    "df = pd.read_csv(file_to_load)\n",
    "\n",
    "# Calculate total months\n",
    "total_months = df[\"Date\"].nunique()\n",
    "\n",
    "# Calculate the net total amount of \"Profit/Losses\" over the entire period\n",
    "total_net = df[\"Profit/Losses\"].sum()\n",
    "\n",
    "# Calculate the changes in \"Profit/Losses\" over the entire period\n",
    "df['Change'] = df[\"Profit/Losses\"].diff()\n",
    "\n",
    "# Calculate the average of those changes\n",
    "average_change = df['Change'].mean()\n",
    "\n",
    "# Calculate the greatest increase in profits (date and amount)\n",
    "greatest_increase = df.loc[df['Change'].idxmax()]\n",
    "\n",
    "# Calculate the greatest decrease in profits (date and amount)\n",
    "greatest_decrease = df.loc[df['Change'].idxmin()]\n",
    "\n",
    "# Generate the output summary\n",
    "output = (\n",
    "    f\"Financial Analysis\\n\"\n",
    "    f\"----------------------------\\n\"\n",
    "    f\"Total Months: {total_months}\\n\"\n",
    "    f\"Total: ${total_net}\\n\"\n",
    "    f\"Average Change: ${average_change:.2f}\\n\"\n",
    "    f\"Greatest Increase in Profits: {greatest_increase['Date']} (${greatest_increase['Change']})\\n\"\n",
    "    f\"Greatest Decrease in Profits: {greatest_decrease['Date']} (${greatest_decrease['Change']})\\n\"\n",
    ")\n",
    "\n",
    "# Print the output\n",
    "print(output)\n",
    "\n",
    "# Write the results to a text file\n",
    "with open(file_to_output, \"w\") as txt_file:\n",
    "    txt_file.write(output)\n",
    "\n"
   ]
  },
  {
   "cell_type": "code",
   "execution_count": 39,
   "id": "656e9ed5",
   "metadata": {},
   "outputs": [],
   "source": [
    "# File paths to load the CSV and output the results\n",
    "file_to_load = Path(\"/Users/sarahrwolberg/Desktop/UPENN Data Science Bootcamp/Module 3/election_data.csv\")\n",
    "file_to_output = Path(\"/Users/sarahrwolberg/Desktop/UPENN Data Science Bootcamp/Module 3/election_results.txt\")\n",
    "\n",
    "\n"
   ]
  },
  {
   "cell_type": "code",
   "execution_count": 40,
   "id": "700fe519",
   "metadata": {},
   "outputs": [],
   "source": [
    "# Read the CSV file using pandas\n",
    "df2 = pd.read_csv(file_to_load)\n",
    "\n"
   ]
  },
  {
   "cell_type": "code",
   "execution_count": 41,
   "id": "58c3241f",
   "metadata": {},
   "outputs": [],
   "source": [
    "# Calculate the total number of votes cast\n",
    "total_votes = df2[\"Ballot ID\"].nunique()\n"
   ]
  },
  {
   "cell_type": "code",
   "execution_count": 42,
   "id": "dc34cf69",
   "metadata": {},
   "outputs": [
    {
     "name": "stdout",
     "output_type": "stream",
     "text": [
      "Election Results\n",
      "-------------------------\n",
      "Total Votes: 369711\n",
      "-------------------------\n",
      "Diana DeGette: 73.812% (272892)\n",
      "Charles Casper Stockham: 23.049% (85213)\n",
      "Raymon Anthony Doane: 3.139% (11606)\n",
      "-------------------------\n",
      "Winner: Diana DeGette\n",
      "-------------------------\n",
      "\n"
     ]
    }
   ],
   "source": [
    "\n",
    "# Calculate the total votes per candidate\n",
    "candidate_votes = df2[\"Candidate\"].value_counts()\n",
    "\n",
    "# Calculate the percentage of votes each candidate won\n",
    "vote_percentages = (candidate_votes / total_votes) * 100\n",
    "\n",
    "# Determine the winner by the highest vote count\n",
    "winner = candidate_votes.idxmax()\n",
    "\n",
    "# Generate the output summary\n",
    "output = (\n",
    "    f\"Election Results\\n\"\n",
    "    f\"-------------------------\\n\"\n",
    "    f\"Total Votes: {total_votes}\\n\"\n",
    "    f\"-------------------------\\n\"\n",
    ")\n",
    "# Add each candidate's results to the output\n",
    "for candidate, votes in candidate_votes.items():\n",
    "    percentage = vote_percentages[candidate]\n",
    "    output += f\"{candidate}: {percentage:.3f}% ({votes})\\n\"\n",
    "# Add the winner to the output\n",
    "output += (\n",
    "    f\"-------------------------\\n\"\n",
    "    f\"Winner: {winner}\\n\"\n",
    "    f\"-------------------------\\n\"\n",
    ")\n",
    "\n",
    "# Print the output to the terminal\n",
    "print(output)\n",
    "\n",
    "# Write the results to a text file\n",
    "with open(file_to_output, \"w\") as txt_file:\n",
    "    txt_file.write(output)"
   ]
  },
  {
   "cell_type": "code",
   "execution_count": null,
   "id": "152bb55a",
   "metadata": {},
   "outputs": [],
   "source": []
  },
  {
   "cell_type": "code",
   "execution_count": null,
   "id": "5bf3d588",
   "metadata": {},
   "outputs": [],
   "source": []
  },
  {
   "cell_type": "code",
   "execution_count": null,
   "id": "138a52c0",
   "metadata": {},
   "outputs": [],
   "source": []
  },
  {
   "cell_type": "code",
   "execution_count": null,
   "id": "171655f2",
   "metadata": {},
   "outputs": [],
   "source": []
  }
 ],
 "metadata": {
  "kernelspec": {
   "display_name": "Python 3 (ipykernel)",
   "language": "python",
   "name": "python3"
  },
  "language_info": {
   "codemirror_mode": {
    "name": "ipython",
    "version": 3
   },
   "file_extension": ".py",
   "mimetype": "text/x-python",
   "name": "python",
   "nbconvert_exporter": "python",
   "pygments_lexer": "ipython3",
   "version": "3.9.13"
  }
 },
 "nbformat": 4,
 "nbformat_minor": 5
}
